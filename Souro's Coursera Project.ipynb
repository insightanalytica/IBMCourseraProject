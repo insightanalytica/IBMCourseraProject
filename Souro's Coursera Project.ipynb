{
    "nbformat_minor": 1, 
    "cells": [
        {
            "source": "# \"My Jupyter Notebook on IBM Data Science Experience\"", 
            "cell_type": "markdown", 
            "metadata": {
                "collapsed": true
            }
        }, 
        {
            "source": "**Souradipta Chowdhury**    \nOccupation: Business Analytics Professional", 
            "cell_type": "markdown", 
            "metadata": {}
        }, 
        {
            "source": "_I am interested in Data Science because it is a superset of Business Analytics as my concern interest. I want to explore this domain as techno functional Manager._", 
            "cell_type": "markdown", 
            "metadata": {}
        }, 
        {
            "source": "### Calculation the sum of 2 plus 2", 
            "cell_type": "markdown", 
            "metadata": {}
        }, 
        {
            "source": "2 + 2", 
            "cell_type": "code", 
            "metadata": {}, 
            "outputs": [
                {
                    "output_type": "execute_result", 
                    "data": {
                        "text/plain": "4"
                    }, 
                    "execution_count": 4, 
                    "metadata": {}
                }
            ], 
            "execution_count": 4
        }, 
        {
            "source": "Let's begin some HTML Markdown: Horizontal Line below\n*********\n", 
            "cell_type": "markdown", 
            "metadata": {}
        }, 
        {
            "source": "- Bullet Command\n\n1.Numbered Command", 
            "cell_type": "markdown", 
            "metadata": {}
        }, 
        {
            "source": "Table | Not | Supported\n--- | --- | ---\n*Still* | `I am` | **trying**\n1.. | 2..| 3..\n", 
            "cell_type": "markdown", 
            "metadata": {}
        }, 
        {
            "source": "> Block Quote is important in Quora. Follow me at [Souradipta Chowdhury](https://www.quora.com/profile/Sourodipto-Chowdhury-1) for Digital Mentoring\n", 
            "cell_type": "markdown", 
            "metadata": {}
        }, 
        {
            "source": "<d1>\n    <dt>This is the end My friend.</dt>\n    <dd>I have used more than six features where atleast three were required.</dd>\n</d1>", 
            "cell_type": "markdown", 
            "metadata": {}
        }, 
        {
            "source": "", 
            "cell_type": "code", 
            "metadata": {}, 
            "outputs": [], 
            "execution_count": null
        }, 
        {
            "source": "", 
            "cell_type": "code", 
            "metadata": {}, 
            "outputs": [], 
            "execution_count": null
        }, 
        {
            "source": "", 
            "cell_type": "code", 
            "metadata": {}, 
            "outputs": [], 
            "execution_count": null
        }, 
        {
            "source": "", 
            "cell_type": "code", 
            "metadata": {}, 
            "outputs": [], 
            "execution_count": null
        }
    ], 
    "metadata": {
        "kernelspec": {
            "display_name": "Python 3.5 with Spark", 
            "name": "python3", 
            "language": "python3"
        }, 
        "language_info": {
            "mimetype": "text/x-python", 
            "nbconvert_exporter": "python", 
            "version": "3.5.4", 
            "name": "python", 
            "file_extension": ".py", 
            "pygments_lexer": "ipython3", 
            "codemirror_mode": {
                "version": 3, 
                "name": "ipython"
            }
        }
    }, 
    "nbformat": 4
}